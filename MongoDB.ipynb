{
 "cells": [
  {
   "cell_type": "markdown",
   "metadata": {},
   "source": [
    "# MongoDB Login System"
   ]
  },
  {
   "cell_type": "markdown",
   "metadata": {},
   "source": [
    "# Successfully Logged in:"
   ]
  },
  {
   "cell_type": "code",
   "execution_count": 53,
   "metadata": {},
   "outputs": [
    {
     "name": "stdout",
     "output_type": "stream",
     "text": [
      "Enter Username : mmauzam\n",
      "Enter Password : mnb123\n",
      "You logged in successfully : \n"
     ]
    }
   ],
   "source": [
    "import pymongo\n",
    "\n",
    "myclient = pymongo.MongoClient()\n",
    "mydb = myclient[\"Ndatabase\"]\n",
    "\n",
    "collection = mydb[\"Useraccount\"]\n",
    "\n",
    "mydict = [{\"Username\":\"mmauzam\",\"Password\":\"mnb123\"},\n",
    "         {\"Username\":\"hassan\",\"Password\":\"hassan34\"},\n",
    "         {\"Username\":\"amna\",\"Password\":\"amna7890\"}]\n",
    "y = collection.insert_many(mydict)\n",
    "user = str(input(\"Enter Username : \"))\n",
    "Password = str(input(\"Enter Password : \"))\n",
    "myquery = {\"Username\": user, \"Password\": Password}\n",
    "mydoc =  collection.find(myquery)\n",
    "a = 0\n",
    "for x in mydoc:\n",
    "    a += 1\n",
    "    \n",
    "if a > 0:\n",
    "    print(\"You logged in successfully : \")\n",
    "else:\n",
    "    print(\"Invalid User : \")"
   ]
  },
  {
   "cell_type": "markdown",
   "metadata": {},
   "source": [
    "# Invalid User:"
   ]
  },
  {
   "cell_type": "code",
   "execution_count": 54,
   "metadata": {},
   "outputs": [
    {
     "name": "stdout",
     "output_type": "stream",
     "text": [
      "Enter Username : mnhg\n",
      "Enter Password : mnbv\n",
      "Invalid User : \n"
     ]
    }
   ],
   "source": [
    "import pymongo\n",
    "\n",
    "myclient = pymongo.MongoClient()\n",
    "mydb = myclient[\"Ndatabase\"]\n",
    "\n",
    "collection = mydb[\"Useraccount\"]\n",
    "\n",
    "mydict = [{\"Username\":\"mmauzam\",\"Password\":\"mnb123\"},\n",
    "         {\"Username\":\"hassan\",\"Password\":\"hassan34\"},\n",
    "         {\"Username\":\"amna\",\"Password\":\"amna7890\"}]\n",
    "y = collection.insert_many(mydict)\n",
    "user = str(input(\"Enter Username : \"))\n",
    "Password = str(input(\"Enter Password : \"))\n",
    "myquery = {\"Username\": user, \"Password\": Password}\n",
    "mydoc =  collection.find(myquery)\n",
    "a = 0\n",
    "for x in mydoc:\n",
    "    a += 1\n",
    "    \n",
    "if a > 0:\n",
    "    print(\"You logged in successfully : \")\n",
    "else:\n",
    "    print(\"Invalid User  \")"
   ]
  }
 ],
 "metadata": {
  "kernelspec": {
   "display_name": "Python 3",
   "language": "python",
   "name": "python3"
  },
  "language_info": {
   "codemirror_mode": {
    "name": "ipython",
    "version": 3
   },
   "file_extension": ".py",
   "mimetype": "text/x-python",
   "name": "python",
   "nbconvert_exporter": "python",
   "pygments_lexer": "ipython3",
   "version": "3.7.3"
  }
 },
 "nbformat": 4,
 "nbformat_minor": 2
}
