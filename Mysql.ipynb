{
 "cells": [
  {
   "cell_type": "code",
   "execution_count": 23,
   "metadata": {},
   "outputs": [],
   "source": [
    "import mysql.connector\n",
    "\n",
    "mydata = mysql.connector.connect(host = \"localhost\",\n",
    "                                user = \"root\",\n",
    "                                password = \"\")\n",
    "\n",
    "cursor = mydata.cursor()\n",
    "cursor.execute(\"CREATE DATABASE mydataset\")"
   ]
  },
  {
   "cell_type": "code",
   "execution_count": 24,
   "metadata": {},
   "outputs": [],
   "source": [
    "import mysql.connector\n",
    "\n",
    "mydata = mysql.connector.connect(host = \"localhost\",\n",
    "                                user = \"root\",\n",
    "                                password = \"\",\n",
    "                                database = \"mydataset\")\n",
    "\n",
    "cursor = mydata.cursor()\n",
    "cursor.execute(\"CREATE TABLE User(ID INT AUTO_INCREMENT PRIMARY KEY, Username VARCHAR(250), Password VARCHAR(250))\")"
   ]
  },
  {
   "cell_type": "code",
   "execution_count": 25,
   "metadata": {},
   "outputs": [
    {
     "name": "stdout",
     "output_type": "stream",
     "text": [
      "('user',)\n"
     ]
    }
   ],
   "source": [
    "import mysql.connector\n",
    "\n",
    "mydata = mysql.connector.connect(host = \"localhost\",\n",
    "                                user = \"root\",\n",
    "                                password = \"\",\n",
    "                                database = \"mydataset\")\n",
    "\n",
    "cursor = mydata.cursor()\n",
    "cursor.execute(\"SHOW TABLES\")\n",
    "\n",
    "for i in cursor:\n",
    "    print(i)"
   ]
  },
  {
   "cell_type": "markdown",
   "metadata": {},
   "source": [
    "# Logged in Fail:"
   ]
  },
  {
   "cell_type": "code",
   "execution_count": 32,
   "metadata": {},
   "outputs": [
    {
     "name": "stdout",
     "output_type": "stream",
     "text": [
      "Enter Username : jhgf\n",
      "Enter Password : vgyh\n",
      "User Invalid \n"
     ]
    }
   ],
   "source": [
    "import mysql.connector\n",
    "\n",
    "mydata = mysql.connector.connect(host = \"localhost\",\n",
    "                                user = \"root\",\n",
    "                                password = \"\",\n",
    "                                database = \"mydataset\")\n",
    "\n",
    "cursor = mydata.cursor()\n",
    "query =  \"INSERT INTO User (Username, Password) VALUES (%s, %s)\"\n",
    "val = [('maham', 'maham420'),\n",
    "      ('ayesha','123789'),\n",
    "      ('Maaz','ghazal2')]\n",
    "cursor.executemany(query, val)\n",
    "\n",
    "cursor.execute(\"SELECT * FROM User\")\n",
    "result = cursor.fetchall()\n",
    "Userno = input(\"Enter Username : \")\n",
    "Passwo = input(\"Enter Password : \")\n",
    "a = 0\n",
    "for i in result:\n",
    "    user = str(i[1])\n",
    "    passw = str(i[2]) \n",
    "    if (Userno == user  and Passwo == passw ):\n",
    "        a += 1\n",
    "\n",
    "if a == 1:\n",
    "    print(\"You are Logged in successfully:\") \n",
    "else:\n",
    "     print(\"User Invalid \")\n",
    "\n",
    "      \n",
    "            \n",
    "    \n",
    "    "
   ]
  },
  {
   "cell_type": "markdown",
   "metadata": {},
   "source": [
    "# Logged in Successfu:"
   ]
  },
  {
   "cell_type": "code",
   "execution_count": 1,
   "metadata": {},
   "outputs": [
    {
     "name": "stdout",
     "output_type": "stream",
     "text": [
      "Enter Username : maham\n",
      "Enter Password : maham420\n",
      "You are Logged in successfully:\n"
     ]
    }
   ],
   "source": [
    "import mysql.connector\n",
    "\n",
    "mydata = mysql.connector.connect(host = \"localhost\",\n",
    "                                user = \"root\",\n",
    "                                password = \"\",\n",
    "                                database = \"mydataset\")\n",
    "\n",
    "cursor = mydata.cursor()\n",
    "query =  \"INSERT INTO User (Username, Password) VALUES (%s, %s)\"\n",
    "val = [('maham', 'maham420'),\n",
    "      ('ayesha','123789'),\n",
    "      ('Maaz','ghazal2')]\n",
    "cursor.executemany(query, val)\n",
    "\n",
    "cursor.execute(\"SELECT * FROM User\")\n",
    "result = cursor.fetchall()\n",
    "Userno = input(\"Enter Username : \")\n",
    "Passwo = input(\"Enter Password : \")\n",
    "a = 0\n",
    "for i in result:\n",
    "    user = str(i[1])\n",
    "    passw = str(i[2]) \n",
    "    if (Userno == user  and Passwo == passw ):\n",
    "        a += 1\n",
    "\n",
    "if a == 1:\n",
    "    print(\"You are Logged in successfully:\") \n",
    "else:\n",
    "     print(\"User Invalid \")\n",
    "\n",
    "      "
   ]
  },
  {
   "cell_type": "code",
   "execution_count": null,
   "metadata": {},
   "outputs": [],
   "source": []
  }
 ],
 "metadata": {
  "kernelspec": {
   "display_name": "Python 3",
   "language": "python",
   "name": "python3"
  },
  "language_info": {
   "codemirror_mode": {
    "name": "ipython",
    "version": 3
   },
   "file_extension": ".py",
   "mimetype": "text/x-python",
   "name": "python",
   "nbconvert_exporter": "python",
   "pygments_lexer": "ipython3",
   "version": "3.7.3"
  }
 },
 "nbformat": 4,
 "nbformat_minor": 2
}
